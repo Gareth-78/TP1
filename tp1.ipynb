{
 "cells": [
  {
   "cell_type": "markdown",
   "id": "5393de15-943a-43ea-be04-c1213b4dae1b",
   "metadata": {},
   "source": [
    "# 1 variable"
   ]
  },
  {
   "cell_type": "code",
   "execution_count": 18,
   "id": "c1c08f1a-5690-4a2e-aa67-5b1c6be83223",
   "metadata": {},
   "outputs": [],
   "source": [
    "def f1(x) :\n",
    "    return x ** 2, x*x"
   ]
  },
  {
   "cell_type": "code",
   "execution_count": 21,
   "id": "f1880a1f-6e2e-4407-9d51-9ca0abf64f90",
   "metadata": {},
   "outputs": [
    {
     "name": "stdout",
     "output_type": "stream",
     "text": [
      "(81, 81)\n"
     ]
    }
   ],
   "source": [
    "print(f1(9))"
   ]
  },
  {
   "cell_type": "code",
   "execution_count": 3,
   "id": "d39cbe14-1fd6-4ea1-a5ea-5281ccd4230e",
   "metadata": {},
   "outputs": [],
   "source": [
    "def f2(x) :\n",
    "    return str(x) + 'a'"
   ]
  },
  {
   "cell_type": "code",
   "execution_count": 4,
   "id": "89dc9e15-a8f3-4fb6-9d15-c73eff714457",
   "metadata": {},
   "outputs": [
    {
     "data": {
      "text/plain": [
       "'5a'"
      ]
     },
     "execution_count": 4,
     "metadata": {},
     "output_type": "execute_result"
    }
   ],
   "source": [
    "f2(5)"
   ]
  },
  {
   "cell_type": "code",
   "execution_count": 27,
   "id": "c2f1fb9f-f4d0-44cb-85c4-9d08c813faec",
   "metadata": {},
   "outputs": [],
   "source": [
    "toto = False"
   ]
  },
  {
   "cell_type": "code",
   "execution_count": 28,
   "id": "4e96ce19-f10b-49c5-9c5f-8b688dc94958",
   "metadata": {},
   "outputs": [
    {
     "data": {
      "text/plain": [
       "False"
      ]
     },
     "execution_count": 28,
     "metadata": {},
     "output_type": "execute_result"
    }
   ],
   "source": [
    "toto"
   ]
  },
  {
   "cell_type": "code",
   "execution_count": 30,
   "id": "c614c937-6099-4645-bed1-623be48090d2",
   "metadata": {},
   "outputs": [],
   "source": [
    "titi =\"hello world\""
   ]
  },
  {
   "cell_type": "code",
   "execution_count": 31,
   "id": "f094915e-85f5-49ea-8654-9e71581fef60",
   "metadata": {},
   "outputs": [
    {
     "data": {
      "text/plain": [
       "'hello world'"
      ]
     },
     "execution_count": 31,
     "metadata": {},
     "output_type": "execute_result"
    }
   ],
   "source": [
    "titi"
   ]
  },
  {
   "cell_type": "code",
   "execution_count": 32,
   "id": "0d112f2e-de8b-4144-9a95-5af11b8970f3",
   "metadata": {},
   "outputs": [],
   "source": [
    "t= (1,2,3)"
   ]
  },
  {
   "cell_type": "code",
   "execution_count": 33,
   "id": "09832e2e-faad-491a-8387-63d3de92039b",
   "metadata": {},
   "outputs": [
    {
     "data": {
      "text/plain": [
       "(1, 2, 3)"
      ]
     },
     "execution_count": 33,
     "metadata": {},
     "output_type": "execute_result"
    }
   ],
   "source": [
    "t"
   ]
  },
  {
   "cell_type": "code",
   "execution_count": 1,
   "id": "aec111fb-4c4a-40a3-be8b-51168fb476ec",
   "metadata": {
    "scrolled": true
   },
   "outputs": [
    {
     "name": "stdout",
     "output_type": "stream",
     "text": [
      "0\n",
      "1\n",
      "2\n",
      "3\n",
      "4\n",
      "5\n",
      "6\n",
      "7\n",
      "8\n",
      "9\n"
     ]
    }
   ],
   "source": [
    "for i in range (10):\n",
    "    print(i)"
   ]
  },
  {
   "cell_type": "code",
   "execution_count": null,
   "id": "88140084-c9d6-4b3f-bd97-e5c3617a25e4",
   "metadata": {},
   "outputs": [],
   "source": []
  }
 ],
 "metadata": {
  "kernelspec": {
   "display_name": "Python 3 (ipykernel)",
   "language": "python",
   "name": "python3"
  },
  "language_info": {
   "codemirror_mode": {
    "name": "ipython",
    "version": 3
   },
   "file_extension": ".py",
   "mimetype": "text/x-python",
   "name": "python",
   "nbconvert_exporter": "python",
   "pygments_lexer": "ipython3",
   "version": "3.10.12"
  }
 },
 "nbformat": 4,
 "nbformat_minor": 5
}
